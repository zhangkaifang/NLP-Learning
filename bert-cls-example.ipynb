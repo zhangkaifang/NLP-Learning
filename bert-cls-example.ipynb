{
 "cells": [
  {
   "cell_type": "code",
   "execution_count": 1,
   "metadata": {
    "execution": {
     "iopub.execute_input": "2021-04-24T06:04:35.267854Z",
     "iopub.status.busy": "2021-04-24T06:04:35.267291Z",
     "iopub.status.idle": "2021-04-24T06:04:51.293609Z",
     "shell.execute_reply": "2021-04-24T06:04:51.292478Z",
     "shell.execute_reply.started": "2021-04-24T06:04:35.267807Z"
    }
   },
   "outputs": [
    {
     "name": "stdout",
     "output_type": "stream",
     "text": [
      "--2021-04-24 14:04:35--  https://mirror.coggle.club/dataset/toutiao_cat_data.txt.zip\n",
      "正在解析主机 mirror.coggle.club (mirror.coggle.club)... 60.217.246.15\n",
      "正在连接 mirror.coggle.club (mirror.coggle.club)|60.217.246.15|:443... 已连接。\n",
      "已发出 HTTP 请求，正在等待回应... 200 OK\n",
      "长度： 26912069 (26M) [application/zip]\n",
      "正在保存至: “toutiao_cat_data.txt.zip”\n",
      "\n",
      "toutiao_cat_data.tx 100%[===================>]  25.67M  1.74MB/s    用时 15s     \n",
      "\n",
      "2021-04-24 14:04:51 (1.69 MB/s) - 已保存 “toutiao_cat_data.txt.zip” [26912069/26912069])\n",
      "\n"
     ]
    }
   ],
   "source": [
    "!wget https://mirror.coggle.club/dataset/toutiao_cat_data.txt.zip"
   ]
  },
  {
   "cell_type": "code",
   "execution_count": 2,
   "metadata": {
    "execution": {
     "iopub.execute_input": "2021-04-24T06:04:51.923802Z",
     "iopub.status.busy": "2021-04-24T06:04:51.923281Z",
     "iopub.status.idle": "2021-04-24T06:04:52.468096Z",
     "shell.execute_reply": "2021-04-24T06:04:52.466703Z",
     "shell.execute_reply.started": "2021-04-24T06:04:51.923756Z"
    }
   },
   "outputs": [
    {
     "name": "stdout",
     "output_type": "stream",
     "text": [
      "Archive:  toutiao_cat_data.txt.zip\n",
      "  inflating: toutiao_cat_data.txt    \n"
     ]
    }
   ],
   "source": [
    "!unzip toutiao_cat_data.txt.zip"
   ]
  },
  {
   "cell_type": "code",
   "execution_count": 4,
   "metadata": {
    "execution": {
     "iopub.execute_input": "2021-04-24T06:05:08.025701Z",
     "iopub.status.busy": "2021-04-24T06:05:08.025175Z",
     "iopub.status.idle": "2021-04-24T06:05:08.146121Z",
     "shell.execute_reply": "2021-04-24T06:05:08.145029Z",
     "shell.execute_reply.started": "2021-04-24T06:05:08.025656Z"
    },
    "tags": []
   },
   "outputs": [
    {
     "name": "stdout",
     "output_type": "stream",
     "text": [
      "6551700932705387022_!_101_!_news_culture_!_京城最值得你来场文化之旅的博物馆_!_保利集团,马未都,中国科学技术馆,博物馆,新中国\n",
      "6552368441838272771_!_101_!_news_culture_!_发酵床的垫料种类有哪些？哪种更好？_!_\n",
      "6552407965343678723_!_101_!_news_culture_!_上联：黄山黄河黄皮肤黄土高原。怎么对下联？_!_\n",
      "6552332417753940238_!_101_!_news_culture_!_林徽因什么理由拒绝了徐志摩而选择梁思成为终身伴侣？_!_\n",
      "6552475601595269390_!_101_!_news_culture_!_黄杨木是什么树？_!_\n",
      "6552387648126714125_!_101_!_news_culture_!_上联：草根登上星光道，怎么对下联？_!_\n",
      "6552271725814350087_!_101_!_news_culture_!_什么是超写实绘画？_!_\n",
      "6552452982015787268_!_101_!_news_culture_!_松涛听雨莺婉转，下联？_!_\n",
      "6552400379030536455_!_101_!_news_culture_!_上联：老子骑牛读书，下联怎么对？_!_\n",
      "6552339283632455939_!_101_!_news_culture_!_上联：山水醉人何须酒。如何对下联？_!_\n"
     ]
    }
   ],
   "source": [
    "!head toutiao_cat_data.txt"
   ]
  },
  {
   "cell_type": "code",
   "execution_count": 2,
   "metadata": {
    "execution": {
     "iopub.execute_input": "2021-04-24T06:31:36.201718Z",
     "iopub.status.busy": "2021-04-24T06:31:36.201147Z",
     "iopub.status.idle": "2021-04-24T06:31:36.998609Z",
     "shell.execute_reply": "2021-04-24T06:31:36.998079Z",
     "shell.execute_reply.started": "2021-04-24T06:31:36.201668Z"
    },
    "tags": []
   },
   "outputs": [],
   "source": [
    "# pandas 数据集读取，dataframe形式的\n",
    "import pandas as pd\n",
    "# 文件读取\n",
    "import codecs\n",
    "\n",
    "# 读取文本\n",
    "\n",
    "# 标签\n",
    "news_label = [int(x.split('_!_')[1])-100 \n",
    "                  for x in codecs.open('toutiao_cat_data.txt')]\n",
    "\n",
    "# 文本\n",
    "news_text = [x.strip().split('_!_')[-1] if x.strip()[-3:] != '_!_' else x.strip().split('_!_')[-2]\n",
    "                 for x in codecs.open('toutiao_cat_data.txt')]"
   ]
  },
  {
   "cell_type": "code",
   "execution_count": 1,
   "metadata": {
    "ExecuteTime": {
     "end_time": "2021-03-11T09:35:08.358976Z",
     "start_time": "2021-03-11T09:35:08.347065Z"
    },
    "execution": {
     "iopub.execute_input": "2021-04-24T06:31:30.388115Z",
     "iopub.status.busy": "2021-04-24T06:31:30.387604Z",
     "iopub.status.idle": "2021-04-24T06:31:31.435696Z",
     "shell.execute_reply": "2021-04-24T06:31:31.434882Z",
     "shell.execute_reply.started": "2021-04-24T06:31:30.388068Z"
    },
    "tags": []
   },
   "outputs": [],
   "source": [
    "import torch\n",
    "from sklearn.model_selection import train_test_split\n",
    "from torch.utils.data import Dataset, DataLoader, TensorDataset\n",
    "import numpy as np\n",
    "import pandas as pd\n",
    "import random\n",
    "import re"
   ]
  },
  {
   "cell_type": "code",
   "execution_count": 3,
   "metadata": {
    "ExecuteTime": {
     "end_time": "2021-03-11T09:35:09.263768Z",
     "start_time": "2021-03-11T09:35:09.227357Z"
    },
    "execution": {
     "iopub.execute_input": "2021-04-24T06:31:39.190488Z",
     "iopub.status.busy": "2021-04-24T06:31:39.189948Z",
     "iopub.status.idle": "2021-04-24T06:31:39.506907Z",
     "shell.execute_reply": "2021-04-24T06:31:39.506020Z",
     "shell.execute_reply.started": "2021-04-24T06:31:39.190438Z"
    },
    "tags": []
   },
   "outputs": [],
   "source": [
    "# 划分为训练集和验证集\n",
    "# stratify 按照标签进行采样，训练集和验证部分同分布\n",
    "x_train, x_test, train_label, test_label =  train_test_split(news_text[:50000], \n",
    "                                                             news_label[:50000], \n",
    "                                                             test_size=0.2, \n",
    "                                                             stratify=news_label[:50000])"
   ]
  },
  {
   "cell_type": "code",
   "execution_count": 10,
   "metadata": {
    "execution": {
     "iopub.execute_input": "2021-04-24T12:35:41.230574Z",
     "iopub.status.busy": "2021-04-24T12:35:41.230021Z",
     "iopub.status.idle": "2021-04-24T12:35:41.237055Z",
     "shell.execute_reply": "2021-04-24T12:35:41.235931Z",
     "shell.execute_reply.started": "2021-04-24T12:35:41.230515Z"
    },
    "tags": []
   },
   "outputs": [
    {
     "data": {
      "text/plain": [
       "{'input_ids': [101, 673, 3299, 1762, 5296, 511, 102], 'token_type_ids': [0, 0, 0, 0, 0, 0, 0], 'attention_mask': [1, 1, 1, 1, 1, 1, 1]}"
      ]
     },
     "execution_count": 10,
     "metadata": {},
     "output_type": "execute_result"
    }
   ],
   "source": [
    "tokenizer('七月在线。')\n",
    "# input_ids：字的编码\n",
    "# token_type_ids：标识是第一个句子还是第二个句子\n",
    "# attention_mask：标识是不是填充"
   ]
  },
  {
   "cell_type": "code",
   "execution_count": 4,
   "metadata": {
    "ExecuteTime": {
     "end_time": "2021-03-11T09:35:19.935035Z",
     "start_time": "2021-03-11T09:35:09.908638Z"
    },
    "execution": {
     "iopub.execute_input": "2021-04-24T06:31:40.250858Z",
     "iopub.status.busy": "2021-04-24T06:31:40.250314Z",
     "iopub.status.idle": "2021-04-24T06:31:51.295458Z",
     "shell.execute_reply": "2021-04-24T06:31:51.294905Z",
     "shell.execute_reply.started": "2021-04-24T06:31:40.250810Z"
    },
    "tags": []
   },
   "outputs": [],
   "source": [
    "# pip install transformers\n",
    "# transformers bert相关的模型使用和加载\n",
    "from transformers import BertTokenizer\n",
    "# 分词器，词典\n",
    "\n",
    "tokenizer = BertTokenizer.from_pretrained('bert-base-chinese')\n",
    "train_encoding = tokenizer(x_train, truncation=True, padding=True, max_length=64)\n",
    "test_encoding = tokenizer(x_test, truncation=True, padding=True, max_length=64)"
   ]
  },
  {
   "cell_type": "code",
   "execution_count": 5,
   "metadata": {
    "ExecuteTime": {
     "end_time": "2021-03-11T09:35:43.578135Z",
     "start_time": "2021-03-11T09:35:43.571452Z"
    },
    "execution": {
     "iopub.execute_input": "2021-04-24T06:32:11.957704Z",
     "iopub.status.busy": "2021-04-24T06:32:11.957190Z",
     "iopub.status.idle": "2021-04-24T06:32:11.966231Z",
     "shell.execute_reply": "2021-04-24T06:32:11.965549Z",
     "shell.execute_reply.started": "2021-04-24T06:32:11.957662Z"
    },
    "tags": []
   },
   "outputs": [],
   "source": [
    "# 数据集读取\n",
    "class NewsDataset(Dataset):\n",
    "    def __init__(self, encodings, labels):\n",
    "        self.encodings = encodings\n",
    "        self.labels = labels\n",
    "    \n",
    "    # 读取单个样本\n",
    "    def __getitem__(self, idx):\n",
    "        item = {key: torch.tensor(val[idx]) for key, val in self.encodings.items()}\n",
    "        item['labels'] = torch.tensor(int(self.labels[idx]))\n",
    "        return item\n",
    "    \n",
    "    def __len__(self):\n",
    "        return len(self.labels)\n",
    "\n",
    "train_dataset = NewsDataset(train_encoding, train_label)\n",
    "test_dataset = NewsDataset(test_encoding, test_label)"
   ]
  },
  {
   "cell_type": "code",
   "execution_count": 8,
   "metadata": {
    "execution": {
     "iopub.execute_input": "2021-04-24T06:26:17.841950Z",
     "iopub.status.busy": "2021-04-24T06:26:17.841421Z",
     "iopub.status.idle": "2021-04-24T06:26:18.079917Z",
     "shell.execute_reply": "2021-04-24T06:26:18.079147Z",
     "shell.execute_reply.started": "2021-04-24T06:26:17.841903Z"
    },
    "tags": []
   },
   "outputs": [
    {
     "data": {
      "text/plain": [
       "{'input_ids': tensor([ 101, 2577, 2097,  117, 5529, 3331, 1036,  117, 2109, 5710,  679, 5632,\n",
       "         6605,  117, 2577, 3300, 6716, 2097,  117, 1062,  830,  782, 4289,  117,\n",
       "         6929, 2399, 5709, 2458, 3299, 3633, 1749,  117, 2207, 3198,  807, 8038,\n",
       "         1173, 7032, 3198,  807,  117, 5918, 2208, 5705,  102,    0,    0,    0,\n",
       "            0,    0,    0,    0,    0,    0,    0,    0,    0,    0,    0,    0,\n",
       "            0,    0,    0,    0]),\n",
       " 'token_type_ids': tensor([0, 0, 0, 0, 0, 0, 0, 0, 0, 0, 0, 0, 0, 0, 0, 0, 0, 0, 0, 0, 0, 0, 0, 0,\n",
       "         0, 0, 0, 0, 0, 0, 0, 0, 0, 0, 0, 0, 0, 0, 0, 0, 0, 0, 0, 0, 0, 0, 0, 0,\n",
       "         0, 0, 0, 0, 0, 0, 0, 0, 0, 0, 0, 0, 0, 0, 0, 0]),\n",
       " 'attention_mask': tensor([1, 1, 1, 1, 1, 1, 1, 1, 1, 1, 1, 1, 1, 1, 1, 1, 1, 1, 1, 1, 1, 1, 1, 1,\n",
       "         1, 1, 1, 1, 1, 1, 1, 1, 1, 1, 1, 1, 1, 1, 1, 1, 1, 1, 1, 1, 1, 0, 0, 0,\n",
       "         0, 0, 0, 0, 0, 0, 0, 0, 0, 0, 0, 0, 0, 0, 0, 0]),\n",
       " 'labels': tensor(2)}"
      ]
     },
     "execution_count": 8,
     "metadata": {},
     "output_type": "execute_result"
    }
   ],
   "source": [
    "train_dataset[1]"
   ]
  },
  {
   "cell_type": "code",
   "execution_count": 6,
   "metadata": {
    "ExecuteTime": {
     "end_time": "2021-03-11T09:35:44.110121Z",
     "start_time": "2021-03-11T09:35:44.104871Z"
    },
    "execution": {
     "iopub.execute_input": "2021-04-24T06:32:13.616402Z",
     "iopub.status.busy": "2021-04-24T06:32:13.615982Z",
     "iopub.status.idle": "2021-04-24T06:32:13.621989Z",
     "shell.execute_reply": "2021-04-24T06:32:13.620858Z",
     "shell.execute_reply.started": "2021-04-24T06:32:13.616364Z"
    },
    "tags": []
   },
   "outputs": [],
   "source": [
    "# 精度计算\n",
    "def flat_accuracy(preds, labels):\n",
    "    pred_flat = np.argmax(preds, axis=1).flatten()\n",
    "    labels_flat = labels.flatten()\n",
    "    return np.sum(pred_flat == labels_flat) / len(labels_flat)"
   ]
  },
  {
   "cell_type": "code",
   "execution_count": 7,
   "metadata": {
    "ExecuteTime": {
     "end_time": "2021-03-11T09:58:49.027161Z",
     "start_time": "2021-03-11T09:58:45.317009Z"
    },
    "execution": {
     "iopub.execute_input": "2021-04-24T06:32:14.289727Z",
     "iopub.status.busy": "2021-04-24T06:32:14.289213Z",
     "iopub.status.idle": "2021-04-24T06:32:22.101508Z",
     "shell.execute_reply": "2021-04-24T06:32:22.100960Z",
     "shell.execute_reply.started": "2021-04-24T06:32:14.289682Z"
    },
    "tags": []
   },
   "outputs": [
    {
     "name": "stderr",
     "output_type": "stream",
     "text": [
      "Some weights of the model checkpoint at bert-base-chinese were not used when initializing BertForSequenceClassification: ['cls.predictions.bias', 'cls.predictions.transform.dense.weight', 'cls.predictions.transform.dense.bias', 'cls.predictions.decoder.weight', 'cls.seq_relationship.weight', 'cls.seq_relationship.bias', 'cls.predictions.transform.LayerNorm.weight', 'cls.predictions.transform.LayerNorm.bias']\n",
      "- This IS expected if you are initializing BertForSequenceClassification from the checkpoint of a model trained on another task or with another architecture (e.g. initializing a BertForSequenceClassification model from a BertForPreTraining model).\n",
      "- This IS NOT expected if you are initializing BertForSequenceClassification from the checkpoint of a model that you expect to be exactly identical (initializing a BertForSequenceClassification model from a BertForSequenceClassification model).\n",
      "Some weights of BertForSequenceClassification were not initialized from the model checkpoint at bert-base-chinese and are newly initialized: ['classifier.weight', 'classifier.bias']\n",
      "You should probably TRAIN this model on a down-stream task to be able to use it for predictions and inference.\n"
     ]
    }
   ],
   "source": [
    "from transformers import BertForSequenceClassification, AdamW, get_linear_schedule_with_warmup\n",
    "model = BertForSequenceClassification.from_pretrained('bert-base-chinese', num_labels=17)\n",
    "device = torch.device(\"cuda\" if torch.cuda.is_available() else \"cpu\")\n",
    "model.to(device)\n",
    "\n",
    "# 单个读取到批量读取\n",
    "train_loader = DataLoader(train_dataset, batch_size=16, shuffle=True)\n",
    "test_dataloader = DataLoader(test_dataset, batch_size=16, shuffle=True)\n",
    "\n",
    "# 优化方法\n",
    "optim = AdamW(model.parameters(), lr=2e-5)\n",
    "total_steps = len(train_loader) * 1\n",
    "scheduler = get_linear_schedule_with_warmup(optim, \n",
    "                                            num_warmup_steps = 0, # Default value in run_glue.py\n",
    "                                            num_training_steps = total_steps)"
   ]
  },
  {
   "cell_type": "code",
   "execution_count": 8,
   "metadata": {
    "ExecuteTime": {
     "end_time": "2021-03-11T09:44:22.077501Z",
     "start_time": "2021-03-11T09:39:16.473609Z"
    },
    "execution": {
     "iopub.execute_input": "2021-04-24T06:32:30.552523Z",
     "iopub.status.busy": "2021-04-24T06:32:30.551970Z",
     "iopub.status.idle": "2021-04-24T06:50:38.809648Z",
     "shell.execute_reply": "2021-04-24T06:50:38.807666Z",
     "shell.execute_reply.started": "2021-04-24T06:32:30.552474Z"
    },
    "tags": []
   },
   "outputs": [
    {
     "name": "stdout",
     "output_type": "stream",
     "text": [
      "------------Epoch: 0 ----------------\n",
      "epoth: 0, iter_num: 100, loss: 1.1153, 4.00%\n",
      "epoth: 0, iter_num: 200, loss: 0.6116, 8.00%\n",
      "epoth: 0, iter_num: 300, loss: 1.2130, 12.00%\n",
      "epoth: 0, iter_num: 400, loss: 0.2496, 16.00%\n",
      "epoth: 0, iter_num: 500, loss: 0.4285, 20.00%\n",
      "epoth: 0, iter_num: 600, loss: 0.3757, 24.00%\n",
      "epoth: 0, iter_num: 700, loss: 0.6119, 28.00%\n",
      "epoth: 0, iter_num: 800, loss: 0.3269, 32.00%\n",
      "epoth: 0, iter_num: 900, loss: 0.5932, 36.00%\n",
      "epoth: 0, iter_num: 1000, loss: 0.2557, 40.00%\n",
      "epoth: 0, iter_num: 1100, loss: 0.3224, 44.00%\n",
      "epoth: 0, iter_num: 1200, loss: 0.2232, 48.00%\n",
      "epoth: 0, iter_num: 1300, loss: 0.7005, 52.00%\n",
      "epoth: 0, iter_num: 1400, loss: 0.4618, 56.00%\n",
      "epoth: 0, iter_num: 1500, loss: 0.3498, 60.00%\n",
      "epoth: 0, iter_num: 1600, loss: 1.2221, 64.00%\n",
      "epoth: 0, iter_num: 1700, loss: 0.3283, 68.00%\n",
      "epoth: 0, iter_num: 1800, loss: 0.1679, 72.00%\n",
      "epoth: 0, iter_num: 1900, loss: 0.3219, 76.00%\n",
      "epoth: 0, iter_num: 2000, loss: 0.6863, 80.00%\n",
      "epoth: 0, iter_num: 2100, loss: 0.3656, 84.00%\n",
      "epoth: 0, iter_num: 2200, loss: 0.1841, 88.00%\n",
      "epoth: 0, iter_num: 2300, loss: 0.2048, 92.00%\n",
      "epoth: 0, iter_num: 2400, loss: 0.6750, 96.00%\n",
      "epoth: 0, iter_num: 2500, loss: 0.7519, 100.00%\n",
      "Epoch: 0, Average training loss: 0.6181\n",
      "Accuracy: 0.8747\n",
      "Average testing loss: 0.4602\n",
      "-------------------------------\n",
      "------------Epoch: 1 ----------------\n",
      "epoth: 1, iter_num: 100, loss: 0.4814, 4.00%\n",
      "epoth: 1, iter_num: 200, loss: 0.1946, 8.00%\n",
      "epoth: 1, iter_num: 300, loss: 0.1796, 12.00%\n",
      "epoth: 1, iter_num: 400, loss: 0.0931, 16.00%\n",
      "epoth: 1, iter_num: 500, loss: 0.5104, 20.00%\n",
      "epoth: 1, iter_num: 600, loss: 0.4047, 24.00%\n",
      "epoth: 1, iter_num: 700, loss: 0.0419, 28.00%\n",
      "epoth: 1, iter_num: 800, loss: 0.3464, 32.00%\n",
      "epoth: 1, iter_num: 900, loss: 0.2367, 36.00%\n",
      "epoth: 1, iter_num: 1000, loss: 0.6062, 40.00%\n",
      "epoth: 1, iter_num: 1100, loss: 0.5128, 44.00%\n",
      "epoth: 1, iter_num: 1200, loss: 0.4490, 48.00%\n",
      "epoth: 1, iter_num: 1300, loss: 0.3533, 52.00%\n",
      "epoth: 1, iter_num: 1400, loss: 0.8225, 56.00%\n",
      "epoth: 1, iter_num: 1500, loss: 0.0551, 60.00%\n",
      "epoth: 1, iter_num: 1600, loss: 0.3125, 64.00%\n",
      "epoth: 1, iter_num: 1700, loss: 0.3223, 68.00%\n",
      "epoth: 1, iter_num: 1800, loss: 0.2906, 72.00%\n",
      "epoth: 1, iter_num: 1900, loss: 0.8114, 76.00%\n",
      "epoth: 1, iter_num: 2000, loss: 0.9646, 80.00%\n",
      "epoth: 1, iter_num: 2100, loss: 0.4762, 84.00%\n",
      "epoth: 1, iter_num: 2200, loss: 0.2437, 88.00%\n",
      "epoth: 1, iter_num: 2300, loss: 0.0382, 92.00%\n",
      "epoth: 1, iter_num: 2400, loss: 0.3108, 96.00%\n",
      "epoth: 1, iter_num: 2500, loss: 0.4420, 100.00%\n",
      "Epoch: 1, Average training loss: 0.3609\n",
      "Accuracy: 0.8747\n",
      "Average testing loss: 0.4602\n",
      "-------------------------------\n",
      "------------Epoch: 2 ----------------\n",
      "epoth: 2, iter_num: 100, loss: 0.4151, 4.00%\n",
      "epoth: 2, iter_num: 200, loss: 0.4348, 8.00%\n",
      "epoth: 2, iter_num: 300, loss: 0.1247, 12.00%\n",
      "epoth: 2, iter_num: 400, loss: 0.1380, 16.00%\n",
      "epoth: 2, iter_num: 500, loss: 0.0994, 20.00%\n",
      "epoth: 2, iter_num: 600, loss: 0.3140, 24.00%\n",
      "epoth: 2, iter_num: 700, loss: 0.0777, 28.00%\n",
      "epoth: 2, iter_num: 800, loss: 0.4238, 32.00%\n",
      "epoth: 2, iter_num: 900, loss: 0.4849, 36.00%\n",
      "epoth: 2, iter_num: 1000, loss: 0.3703, 40.00%\n",
      "epoth: 2, iter_num: 1100, loss: 0.4374, 44.00%\n",
      "epoth: 2, iter_num: 1200, loss: 0.1970, 48.00%\n",
      "epoth: 2, iter_num: 1300, loss: 0.4953, 52.00%\n",
      "epoth: 2, iter_num: 1400, loss: 1.0947, 56.00%\n",
      "epoth: 2, iter_num: 1500, loss: 0.4093, 60.00%\n",
      "epoth: 2, iter_num: 1600, loss: 0.2815, 64.00%\n",
      "epoth: 2, iter_num: 1700, loss: 0.7125, 68.00%\n",
      "epoth: 2, iter_num: 1800, loss: 0.4488, 72.00%\n",
      "epoth: 2, iter_num: 1900, loss: 0.6786, 76.00%\n",
      "epoth: 2, iter_num: 2000, loss: 0.1705, 80.00%\n",
      "epoth: 2, iter_num: 2100, loss: 0.2752, 84.00%\n",
      "epoth: 2, iter_num: 2200, loss: 1.2604, 88.00%\n",
      "epoth: 2, iter_num: 2300, loss: 0.4147, 92.00%\n",
      "epoth: 2, iter_num: 2400, loss: 0.3955, 96.00%\n",
      "epoth: 2, iter_num: 2500, loss: 0.6593, 100.00%\n",
      "Epoch: 2, Average training loss: 0.3608\n",
      "Accuracy: 0.8747\n",
      "Average testing loss: 0.4602\n",
      "-------------------------------\n",
      "------------Epoch: 3 ----------------\n",
      "epoth: 3, iter_num: 100, loss: 0.1005, 4.00%\n",
      "epoth: 3, iter_num: 200, loss: 0.2495, 8.00%\n",
      "epoth: 3, iter_num: 300, loss: 0.3578, 12.00%\n",
      "epoth: 3, iter_num: 400, loss: 0.5624, 16.00%\n",
      "epoth: 3, iter_num: 500, loss: 0.3800, 20.00%\n",
      "epoth: 3, iter_num: 600, loss: 0.1445, 24.00%\n",
      "epoth: 3, iter_num: 700, loss: 0.4523, 28.00%\n",
      "epoth: 3, iter_num: 800, loss: 0.0616, 32.00%\n",
      "epoth: 3, iter_num: 900, loss: 0.2931, 36.00%\n",
      "epoth: 3, iter_num: 1000, loss: 0.8472, 40.00%\n"
     ]
    },
    {
     "ename": "KeyboardInterrupt",
     "evalue": "",
     "output_type": "error",
     "traceback": [
      "\u001b[0;31m---------------------------------------------------------------------------\u001b[0m",
      "\u001b[0;31mKeyboardInterrupt\u001b[0m                         Traceback (most recent call last)",
      "\u001b[0;32m<ipython-input-8-de62f035659a>\u001b[0m in \u001b[0;36m<module>\u001b[0;34m\u001b[0m\n\u001b[1;32m     50\u001b[0m \u001b[0;32mfor\u001b[0m \u001b[0mepoch\u001b[0m \u001b[0;32min\u001b[0m \u001b[0mrange\u001b[0m\u001b[0;34m(\u001b[0m\u001b[0;36m4\u001b[0m\u001b[0;34m)\u001b[0m\u001b[0;34m:\u001b[0m\u001b[0;34m\u001b[0m\u001b[0;34m\u001b[0m\u001b[0m\n\u001b[1;32m     51\u001b[0m     \u001b[0mprint\u001b[0m\u001b[0;34m(\u001b[0m\u001b[0;34m\"------------Epoch: %d ----------------\"\u001b[0m \u001b[0;34m%\u001b[0m \u001b[0mepoch\u001b[0m\u001b[0;34m)\u001b[0m\u001b[0;34m\u001b[0m\u001b[0;34m\u001b[0m\u001b[0m\n\u001b[0;32m---> 52\u001b[0;31m     \u001b[0mtrain\u001b[0m\u001b[0;34m(\u001b[0m\u001b[0;34m)\u001b[0m\u001b[0;34m\u001b[0m\u001b[0;34m\u001b[0m\u001b[0m\n\u001b[0m\u001b[1;32m     53\u001b[0m     \u001b[0mvalidation\u001b[0m\u001b[0;34m(\u001b[0m\u001b[0;34m)\u001b[0m\u001b[0;34m\u001b[0m\u001b[0;34m\u001b[0m\u001b[0m\n",
      "\u001b[0;32m<ipython-input-8-de62f035659a>\u001b[0m in \u001b[0;36mtrain\u001b[0;34m()\u001b[0m\n\u001b[1;32m     12\u001b[0m         \u001b[0mloss\u001b[0m \u001b[0;34m=\u001b[0m \u001b[0moutputs\u001b[0m\u001b[0;34m[\u001b[0m\u001b[0;36m0\u001b[0m\u001b[0;34m]\u001b[0m\u001b[0;34m\u001b[0m\u001b[0;34m\u001b[0m\u001b[0m\n\u001b[1;32m     13\u001b[0m         \u001b[0mtotal_train_loss\u001b[0m \u001b[0;34m+=\u001b[0m \u001b[0mloss\u001b[0m\u001b[0;34m.\u001b[0m\u001b[0mitem\u001b[0m\u001b[0;34m(\u001b[0m\u001b[0;34m)\u001b[0m\u001b[0;34m\u001b[0m\u001b[0;34m\u001b[0m\u001b[0m\n\u001b[0;32m---> 14\u001b[0;31m         \u001b[0mloss\u001b[0m\u001b[0;34m.\u001b[0m\u001b[0mbackward\u001b[0m\u001b[0;34m(\u001b[0m\u001b[0;34m)\u001b[0m\u001b[0;34m\u001b[0m\u001b[0;34m\u001b[0m\u001b[0m\n\u001b[0m\u001b[1;32m     15\u001b[0m         \u001b[0mtorch\u001b[0m\u001b[0;34m.\u001b[0m\u001b[0mnn\u001b[0m\u001b[0;34m.\u001b[0m\u001b[0mutils\u001b[0m\u001b[0;34m.\u001b[0m\u001b[0mclip_grad_norm_\u001b[0m\u001b[0;34m(\u001b[0m\u001b[0mmodel\u001b[0m\u001b[0;34m.\u001b[0m\u001b[0mparameters\u001b[0m\u001b[0;34m(\u001b[0m\u001b[0;34m)\u001b[0m\u001b[0;34m,\u001b[0m \u001b[0;36m1.0\u001b[0m\u001b[0;34m)\u001b[0m\u001b[0;34m\u001b[0m\u001b[0;34m\u001b[0m\u001b[0m\n\u001b[1;32m     16\u001b[0m         \u001b[0moptim\u001b[0m\u001b[0;34m.\u001b[0m\u001b[0mstep\u001b[0m\u001b[0;34m(\u001b[0m\u001b[0;34m)\u001b[0m\u001b[0;34m\u001b[0m\u001b[0;34m\u001b[0m\u001b[0m\n",
      "\u001b[0;32m~/.local/lib/python3.6/site-packages/torch/tensor.py\u001b[0m in \u001b[0;36mbackward\u001b[0;34m(self, gradient, retain_graph, create_graph)\u001b[0m\n\u001b[1;32m    219\u001b[0m                 \u001b[0mretain_graph\u001b[0m\u001b[0;34m=\u001b[0m\u001b[0mretain_graph\u001b[0m\u001b[0;34m,\u001b[0m\u001b[0;34m\u001b[0m\u001b[0;34m\u001b[0m\u001b[0m\n\u001b[1;32m    220\u001b[0m                 create_graph=create_graph)\n\u001b[0;32m--> 221\u001b[0;31m         \u001b[0mtorch\u001b[0m\u001b[0;34m.\u001b[0m\u001b[0mautograd\u001b[0m\u001b[0;34m.\u001b[0m\u001b[0mbackward\u001b[0m\u001b[0;34m(\u001b[0m\u001b[0mself\u001b[0m\u001b[0;34m,\u001b[0m \u001b[0mgradient\u001b[0m\u001b[0;34m,\u001b[0m \u001b[0mretain_graph\u001b[0m\u001b[0;34m,\u001b[0m \u001b[0mcreate_graph\u001b[0m\u001b[0;34m)\u001b[0m\u001b[0;34m\u001b[0m\u001b[0;34m\u001b[0m\u001b[0m\n\u001b[0m\u001b[1;32m    222\u001b[0m \u001b[0;34m\u001b[0m\u001b[0m\n\u001b[1;32m    223\u001b[0m     \u001b[0;32mdef\u001b[0m \u001b[0mregister_hook\u001b[0m\u001b[0;34m(\u001b[0m\u001b[0mself\u001b[0m\u001b[0;34m,\u001b[0m \u001b[0mhook\u001b[0m\u001b[0;34m)\u001b[0m\u001b[0;34m:\u001b[0m\u001b[0;34m\u001b[0m\u001b[0;34m\u001b[0m\u001b[0m\n",
      "\u001b[0;32m~/.local/lib/python3.6/site-packages/torch/autograd/__init__.py\u001b[0m in \u001b[0;36mbackward\u001b[0;34m(tensors, grad_tensors, retain_graph, create_graph, grad_variables)\u001b[0m\n\u001b[1;32m    130\u001b[0m     Variable._execution_engine.run_backward(\n\u001b[1;32m    131\u001b[0m         \u001b[0mtensors\u001b[0m\u001b[0;34m,\u001b[0m \u001b[0mgrad_tensors_\u001b[0m\u001b[0;34m,\u001b[0m \u001b[0mretain_graph\u001b[0m\u001b[0;34m,\u001b[0m \u001b[0mcreate_graph\u001b[0m\u001b[0;34m,\u001b[0m\u001b[0;34m\u001b[0m\u001b[0;34m\u001b[0m\u001b[0m\n\u001b[0;32m--> 132\u001b[0;31m         allow_unreachable=True)  # allow_unreachable flag\n\u001b[0m\u001b[1;32m    133\u001b[0m \u001b[0;34m\u001b[0m\u001b[0m\n\u001b[1;32m    134\u001b[0m \u001b[0;34m\u001b[0m\u001b[0m\n",
      "\u001b[0;31mKeyboardInterrupt\u001b[0m: "
     ]
    }
   ],
   "source": [
    "# 训练函数\n",
    "def train():\n",
    "    model.train()\n",
    "    total_train_loss = 0\n",
    "    iter_num = 0\n",
    "    total_iter = len(train_loader)\n",
    "    for batch in train_loader:\n",
    "        # 正向传播\n",
    "        optim.zero_grad()\n",
    "        input_ids = batch['input_ids'].to(device)\n",
    "        attention_mask = batch['attention_mask'].to(device)\n",
    "        labels = batch['labels'].to(device)\n",
    "        outputs = model(input_ids, attention_mask=attention_mask, labels=labels)\n",
    "        loss = outputs[0]\n",
    "        total_train_loss += loss.item()\n",
    "        \n",
    "        # 反向梯度信息\n",
    "        loss.backward()\n",
    "        torch.nn.utils.clip_grad_norm_(model.parameters(), 1.0)\n",
    "        \n",
    "        # 参数更新\n",
    "        optim.step()\n",
    "        scheduler.step()\n",
    "\n",
    "        iter_num += 1\n",
    "        if(iter_num % 100==0):\n",
    "            print(\"epoth: %d, iter_num: %d, loss: %.4f, %.2f%%\" % (epoch, iter_num, loss.item(), iter_num/total_iter*100))\n",
    "        \n",
    "    print(\"Epoch: %d, Average training loss: %.4f\"%(epoch, total_train_loss/len(train_loader)))\n",
    "    \n",
    "def validation():\n",
    "    model.eval()\n",
    "    total_eval_accuracy = 0\n",
    "    total_eval_loss = 0\n",
    "    for batch in test_dataloader:\n",
    "        with torch.no_grad():\n",
    "            # 正常传播\n",
    "            input_ids = batch['input_ids'].to(device)\n",
    "            attention_mask = batch['attention_mask'].to(device)\n",
    "            labels = batch['labels'].to(device)\n",
    "            outputs = model(input_ids, attention_mask=attention_mask, labels=labels)\n",
    "        \n",
    "        loss = outputs[0]\n",
    "        logits = outputs[1]\n",
    "\n",
    "        total_eval_loss += loss.item()\n",
    "        logits = logits.detach().cpu().numpy()\n",
    "        label_ids = labels.to('cpu').numpy()\n",
    "        total_eval_accuracy += flat_accuracy(logits, label_ids)\n",
    "        \n",
    "    avg_val_accuracy = total_eval_accuracy / len(test_dataloader)\n",
    "    print(\"Accuracy: %.4f\" % (avg_val_accuracy))\n",
    "    print(\"Average testing loss: %.4f\"%(total_eval_loss/len(test_dataloader)))\n",
    "    print(\"-------------------------------\")\n",
    "    \n",
    "\n",
    "for epoch in range(4):\n",
    "    print(\"------------Epoch: %d ----------------\" % epoch)\n",
    "    train()\n",
    "    validation()"
   ]
  },
  {
   "cell_type": "code",
   "execution_count": null,
   "metadata": {},
   "outputs": [],
   "source": []
  }
 ],
 "metadata": {
  "kernelspec": {
   "display_name": "Python 3",
   "language": "python",
   "name": "python3"
  },
  "language_info": {
   "codemirror_mode": {
    "name": "ipython",
    "version": 3
   },
   "file_extension": ".py",
   "mimetype": "text/x-python",
   "name": "python",
   "nbconvert_exporter": "python",
   "pygments_lexer": "ipython3",
   "version": "3.6.9"
  },
  "toc": {
   "base_numbering": 1,
   "nav_menu": {},
   "number_sections": true,
   "sideBar": true,
   "skip_h1_title": false,
   "title_cell": "Table of Contents",
   "title_sidebar": "Contents",
   "toc_cell": false,
   "toc_position": {},
   "toc_section_display": true,
   "toc_window_display": false
  }
 },
 "nbformat": 4,
 "nbformat_minor": 4
}
